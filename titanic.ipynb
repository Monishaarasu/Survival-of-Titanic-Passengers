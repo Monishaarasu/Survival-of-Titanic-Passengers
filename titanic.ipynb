{
 "cells": [
  {
   "cell_type": "code",
   "execution_count": 107,
   "metadata": {},
   "outputs": [],
   "source": [
    "# import libraries\n",
    "import pandas as pd\n",
    "import numpy as np\n",
    "import matplotlib.pyplot as plt\n",
    "from pandas.plotting import scatter_matrix\n",
    "%matplotlib inline\n",
    "import seaborn as sns"
   ]
  },
  {
   "cell_type": "code",
   "execution_count": 72,
   "metadata": {},
   "outputs": [
    {
     "data": {
      "text/html": [
       "<div>\n",
       "<style scoped>\n",
       "    .dataframe tbody tr th:only-of-type {\n",
       "        vertical-align: middle;\n",
       "    }\n",
       "\n",
       "    .dataframe tbody tr th {\n",
       "        vertical-align: top;\n",
       "    }\n",
       "\n",
       "    .dataframe thead th {\n",
       "        text-align: right;\n",
       "    }\n",
       "</style>\n",
       "<table border=\"1\" class=\"dataframe\">\n",
       "  <thead>\n",
       "    <tr style=\"text-align: right;\">\n",
       "      <th></th>\n",
       "      <th>PassengerId</th>\n",
       "      <th>Survived</th>\n",
       "      <th>Pclass</th>\n",
       "      <th>Name</th>\n",
       "      <th>Sex</th>\n",
       "      <th>Age</th>\n",
       "      <th>SibSp</th>\n",
       "      <th>Parch</th>\n",
       "      <th>Ticket</th>\n",
       "      <th>Fare</th>\n",
       "      <th>Cabin</th>\n",
       "      <th>Embarked</th>\n",
       "    </tr>\n",
       "  </thead>\n",
       "  <tbody>\n",
       "    <tr>\n",
       "      <th>0</th>\n",
       "      <td>1</td>\n",
       "      <td>0</td>\n",
       "      <td>3</td>\n",
       "      <td>Braund, Mr. Owen Harris</td>\n",
       "      <td>male</td>\n",
       "      <td>22.0</td>\n",
       "      <td>1</td>\n",
       "      <td>0</td>\n",
       "      <td>A/5 21171</td>\n",
       "      <td>7.2500</td>\n",
       "      <td>NaN</td>\n",
       "      <td>S</td>\n",
       "    </tr>\n",
       "    <tr>\n",
       "      <th>1</th>\n",
       "      <td>2</td>\n",
       "      <td>1</td>\n",
       "      <td>1</td>\n",
       "      <td>Cumings, Mrs. John Bradley (Florence Briggs Th...</td>\n",
       "      <td>female</td>\n",
       "      <td>38.0</td>\n",
       "      <td>1</td>\n",
       "      <td>0</td>\n",
       "      <td>PC 17599</td>\n",
       "      <td>71.2833</td>\n",
       "      <td>C85</td>\n",
       "      <td>C</td>\n",
       "    </tr>\n",
       "    <tr>\n",
       "      <th>2</th>\n",
       "      <td>3</td>\n",
       "      <td>1</td>\n",
       "      <td>3</td>\n",
       "      <td>Heikkinen, Miss. Laina</td>\n",
       "      <td>female</td>\n",
       "      <td>26.0</td>\n",
       "      <td>0</td>\n",
       "      <td>0</td>\n",
       "      <td>STON/O2. 3101282</td>\n",
       "      <td>7.9250</td>\n",
       "      <td>NaN</td>\n",
       "      <td>S</td>\n",
       "    </tr>\n",
       "    <tr>\n",
       "      <th>3</th>\n",
       "      <td>4</td>\n",
       "      <td>1</td>\n",
       "      <td>1</td>\n",
       "      <td>Futrelle, Mrs. Jacques Heath (Lily May Peel)</td>\n",
       "      <td>female</td>\n",
       "      <td>35.0</td>\n",
       "      <td>1</td>\n",
       "      <td>0</td>\n",
       "      <td>113803</td>\n",
       "      <td>53.1000</td>\n",
       "      <td>C123</td>\n",
       "      <td>S</td>\n",
       "    </tr>\n",
       "    <tr>\n",
       "      <th>4</th>\n",
       "      <td>5</td>\n",
       "      <td>0</td>\n",
       "      <td>3</td>\n",
       "      <td>Allen, Mr. William Henry</td>\n",
       "      <td>male</td>\n",
       "      <td>35.0</td>\n",
       "      <td>0</td>\n",
       "      <td>0</td>\n",
       "      <td>373450</td>\n",
       "      <td>8.0500</td>\n",
       "      <td>NaN</td>\n",
       "      <td>S</td>\n",
       "    </tr>\n",
       "  </tbody>\n",
       "</table>\n",
       "</div>"
      ],
      "text/plain": [
       "   PassengerId  Survived  Pclass  \\\n",
       "0            1         0       3   \n",
       "1            2         1       1   \n",
       "2            3         1       3   \n",
       "3            4         1       1   \n",
       "4            5         0       3   \n",
       "\n",
       "                                                Name     Sex   Age  SibSp  \\\n",
       "0                            Braund, Mr. Owen Harris    male  22.0      1   \n",
       "1  Cumings, Mrs. John Bradley (Florence Briggs Th...  female  38.0      1   \n",
       "2                             Heikkinen, Miss. Laina  female  26.0      0   \n",
       "3       Futrelle, Mrs. Jacques Heath (Lily May Peel)  female  35.0      1   \n",
       "4                           Allen, Mr. William Henry    male  35.0      0   \n",
       "\n",
       "   Parch            Ticket     Fare Cabin Embarked  \n",
       "0      0         A/5 21171   7.2500   NaN        S  \n",
       "1      0          PC 17599  71.2833   C85        C  \n",
       "2      0  STON/O2. 3101282   7.9250   NaN        S  \n",
       "3      0            113803  53.1000  C123        S  \n",
       "4      0            373450   8.0500   NaN        S  "
      ]
     },
     "execution_count": 72,
     "metadata": {},
     "output_type": "execute_result"
    }
   ],
   "source": [
    "df=pd.read_csv(\"titanic_train.csv\")\n",
    "df.head()"
   ]
  },
  {
   "cell_type": "code",
   "execution_count": 73,
   "metadata": {},
   "outputs": [
    {
     "data": {
      "text/plain": [
       "Index(['PassengerId', 'Survived', 'Pclass', 'Name', 'Sex', 'Age', 'SibSp',\n",
       "       'Parch', 'Ticket', 'Fare', 'Cabin', 'Embarked'],\n",
       "      dtype='object')"
      ]
     },
     "execution_count": 73,
     "metadata": {},
     "output_type": "execute_result"
    }
   ],
   "source": [
    "df.columns"
   ]
  },
  {
   "cell_type": "code",
   "execution_count": 74,
   "metadata": {},
   "outputs": [
    {
     "data": {
      "text/plain": [
       "(891, 12)"
      ]
     },
     "execution_count": 74,
     "metadata": {},
     "output_type": "execute_result"
    }
   ],
   "source": [
    "df.shape"
   ]
  },
  {
   "cell_type": "code",
   "execution_count": 75,
   "metadata": {},
   "outputs": [
    {
     "data": {
      "text/plain": [
       "male      577\n",
       "female    314\n",
       "Name: Sex, dtype: int64"
      ]
     },
     "execution_count": 75,
     "metadata": {},
     "output_type": "execute_result"
    }
   ],
   "source": [
    "# see distinct values in the Sex column\n",
    "df.Sex.value_counts()"
   ]
  },
  {
   "cell_type": "code",
   "execution_count": 76,
   "metadata": {},
   "outputs": [
    {
     "data": {
      "text/plain": [
       "0    549\n",
       "1    342\n",
       "Name: Survived, dtype: int64"
      ]
     },
     "execution_count": 76,
     "metadata": {},
     "output_type": "execute_result"
    }
   ],
   "source": [
    "# see distinct values in the Survived column\n",
    "df.Survived.value_counts()"
   ]
  },
  {
   "cell_type": "code",
   "execution_count": 77,
   "metadata": {},
   "outputs": [
    {
     "data": {
      "text/plain": [
       "S    644\n",
       "C    168\n",
       "Q     77\n",
       "Name: Embarked, dtype: int64"
      ]
     },
     "execution_count": 77,
     "metadata": {},
     "output_type": "execute_result"
    }
   ],
   "source": [
    "# see distinct values in the Embarked column\n",
    "df.Embarked.value_counts()"
   ]
  },
  {
   "cell_type": "code",
   "execution_count": 78,
   "metadata": {},
   "outputs": [
    {
     "data": {
      "text/plain": [
       "PassengerId      0\n",
       "Survived         0\n",
       "Pclass           0\n",
       "Name             0\n",
       "Sex              0\n",
       "Age            177\n",
       "SibSp            0\n",
       "Parch            0\n",
       "Ticket           0\n",
       "Fare             0\n",
       "Cabin          687\n",
       "Embarked         2\n",
       "dtype: int64"
      ]
     },
     "execution_count": 78,
     "metadata": {},
     "output_type": "execute_result"
    }
   ],
   "source": [
    "# Checking for missing values\n",
    "df.isnull().sum()"
   ]
  },
  {
   "cell_type": "code",
   "execution_count": null,
   "metadata": {},
   "outputs": [],
   "source": [
    "# there are only 891 rows in the titanic data frame. Cabin is almost all missing values, \n",
    "# so we can drop that variable completely, \n",
    "\n",
    "# but what about age? \n",
    "# Age seems like a relevant predictor for survival right? We'd want to keep the variables, \n",
    "# but it has 177 missing values.  \n",
    "\n",
    "# Need to find a way to approximate for those missing values!"
   ]
  },
  {
   "cell_type": "code",
   "execution_count": null,
   "metadata": {},
   "outputs": [],
   "source": [
    "# drop all the variables that aren't relevant for predicting survival. \n",
    "# We should at least keep the following:\n",
    "\n",
    "# Survived - This variable is obviously relevant.\n",
    "# Pclass   - Does a passenger's class on the boat affect their survivability?\n",
    "# Sex      - Could a passenger's gender impact their survival rate?\n",
    "# Age      - Does a person's age impact their survival rate?\n",
    "# SibSp    - Does the number of relatives on the boat (that are siblings or a spouse) \n",
    "#            affect a person survivability? Probability\n",
    "# Parch    - Does the number of relatives on the boat (that are children or parents) \n",
    "#            affect a person survivability? Probability\n",
    "# Fare     - Does the fare a person paid effect his survivability? Maybe - let's keep it.\n",
    "# Embarked - Does a person's point of embarkation matter? \n",
    "#            It depends on how the boat was filled... Let's keep it."
   ]
  },
  {
   "cell_type": "code",
   "execution_count": null,
   "metadata": {},
   "outputs": [],
   "source": [
    "# What about a person's name, ticket number, and passenger ID number? \n",
    "# They're irrelavant for predicting survivability. \n",
    "# And as you recall, the cabin variable is almost all missing values, \n",
    "# so we can just drop all of these."
   ]
  },
  {
   "cell_type": "code",
   "execution_count": 79,
   "metadata": {},
   "outputs": [
    {
     "data": {
      "text/html": [
       "<div>\n",
       "<style scoped>\n",
       "    .dataframe tbody tr th:only-of-type {\n",
       "        vertical-align: middle;\n",
       "    }\n",
       "\n",
       "    .dataframe tbody tr th {\n",
       "        vertical-align: top;\n",
       "    }\n",
       "\n",
       "    .dataframe thead th {\n",
       "        text-align: right;\n",
       "    }\n",
       "</style>\n",
       "<table border=\"1\" class=\"dataframe\">\n",
       "  <thead>\n",
       "    <tr style=\"text-align: right;\">\n",
       "      <th></th>\n",
       "      <th>Survived</th>\n",
       "      <th>Pclass</th>\n",
       "      <th>Sex</th>\n",
       "      <th>Age</th>\n",
       "      <th>SibSp</th>\n",
       "      <th>Parch</th>\n",
       "      <th>Fare</th>\n",
       "      <th>Embarked</th>\n",
       "    </tr>\n",
       "  </thead>\n",
       "  <tbody>\n",
       "    <tr>\n",
       "      <th>0</th>\n",
       "      <td>0</td>\n",
       "      <td>3</td>\n",
       "      <td>male</td>\n",
       "      <td>22.0</td>\n",
       "      <td>1</td>\n",
       "      <td>0</td>\n",
       "      <td>7.2500</td>\n",
       "      <td>S</td>\n",
       "    </tr>\n",
       "    <tr>\n",
       "      <th>1</th>\n",
       "      <td>1</td>\n",
       "      <td>1</td>\n",
       "      <td>female</td>\n",
       "      <td>38.0</td>\n",
       "      <td>1</td>\n",
       "      <td>0</td>\n",
       "      <td>71.2833</td>\n",
       "      <td>C</td>\n",
       "    </tr>\n",
       "    <tr>\n",
       "      <th>2</th>\n",
       "      <td>1</td>\n",
       "      <td>3</td>\n",
       "      <td>female</td>\n",
       "      <td>26.0</td>\n",
       "      <td>0</td>\n",
       "      <td>0</td>\n",
       "      <td>7.9250</td>\n",
       "      <td>S</td>\n",
       "    </tr>\n",
       "    <tr>\n",
       "      <th>3</th>\n",
       "      <td>1</td>\n",
       "      <td>1</td>\n",
       "      <td>female</td>\n",
       "      <td>35.0</td>\n",
       "      <td>1</td>\n",
       "      <td>0</td>\n",
       "      <td>53.1000</td>\n",
       "      <td>S</td>\n",
       "    </tr>\n",
       "    <tr>\n",
       "      <th>4</th>\n",
       "      <td>0</td>\n",
       "      <td>3</td>\n",
       "      <td>male</td>\n",
       "      <td>35.0</td>\n",
       "      <td>0</td>\n",
       "      <td>0</td>\n",
       "      <td>8.0500</td>\n",
       "      <td>S</td>\n",
       "    </tr>\n",
       "  </tbody>\n",
       "</table>\n",
       "</div>"
      ],
      "text/plain": [
       "   Survived  Pclass     Sex   Age  SibSp  Parch     Fare Embarked\n",
       "0         0       3    male  22.0      1      0   7.2500        S\n",
       "1         1       1  female  38.0      1      0  71.2833        C\n",
       "2         1       3  female  26.0      0      0   7.9250        S\n",
       "3         1       1  female  35.0      1      0  53.1000        S\n",
       "4         0       3    male  35.0      0      0   8.0500        S"
      ]
     },
     "execution_count": 79,
     "metadata": {},
     "output_type": "execute_result"
    }
   ],
   "source": [
    "df= df.drop(['PassengerId','Name','Ticket','Cabin'], axis=1)\n",
    "df.head()"
   ]
  },
  {
   "cell_type": "code",
   "execution_count": 80,
   "metadata": {},
   "outputs": [
    {
     "name": "stderr",
     "output_type": "stream",
     "text": [
      "/usr/local/lib/python3.7/site-packages/seaborn/_decorators.py:43: FutureWarning: Pass the following variables as keyword args: x, y, hue. From version 0.12, the only valid positional argument will be `data`, and passing other arguments without an explicit keyword will result in an error or misinterpretation.\n",
      "  FutureWarning\n"
     ]
    },
    {
     "data": {
      "text/plain": [
       "<Figure size 576x432 with 0 Axes>"
      ]
     },
     "execution_count": 80,
     "metadata": {},
     "output_type": "execute_result"
    },
    {
     "data": {
      "image/png": "[encoded data removed]",
      "text/plain": [
       "<Figure size 432x288 with 1 Axes>"
      ]
     },
     "metadata": {
      "needs_background": "light"
     },
     "output_type": "display_data"
    },
    {
     "data": {
      "text/plain": [
       "<Figure size 576x432 with 0 Axes>"
      ]
     },
     "metadata": {},
     "output_type": "display_data"
    }
   ],
   "source": [
    "sns.boxplot(df.Age,df.Sex,df.Pclass)\n",
    "plt.figure(figsize=[8,6])"
   ]
  },
  {
   "cell_type": "code",
   "execution_count": 81,
   "metadata": {},
   "outputs": [],
   "source": [
    "# now we need to deal with the missing values in the age variable.\n",
    "\n",
    "# Speaking roughly, we could say that the younger a passenger is, the more likely it is for them \n",
    "# to be in 3rd class. The older a passenger is, the more likely it is for them to be in 1st class. So there is a loose relationship between these variables. So, let's write a function that approximates a passengers age, based on their class. From the box plot, it looks like the average age of 1st class passengers is about 37, 2nd class passengers is 29, and 3rd class pasengers is 24.\n",
    "\n",
    "# find each null value in the Age variable and for each null, checks the value of the Pclass \n",
    "# and assigns an age value according to the average age of passengers in that class.\n",
    "def age_approx(cols):\n",
    "    Age    = cols[0]\n",
    "    Pclass = cols[1]\n",
    "    \n",
    "    if pd.isnull(Age):\n",
    "        if Pclass == 1:\n",
    "            return 37\n",
    "        elif Pclass == 2:\n",
    "            return 29\n",
    "        else:\n",
    "            return 24\n",
    "    else:\n",
    "        return Age\n",
    "    "
   ]
  },
  {
   "cell_type": "code",
   "execution_count": null,
   "metadata": {},
   "outputs": [],
   "source": [
    "# avg age per class\n",
    "# df_train[df_train['Pclass']== 1]['Age'].mean()\n",
    "# df_train[df_train['Pclass']== 2]['Age'].mean()\n",
    "# df_train[df_train['Pclass']== 3]['Age'].mean()"
   ]
  },
  {
   "cell_type": "code",
   "execution_count": 82,
   "metadata": {},
   "outputs": [
    {
     "data": {
      "text/html": [
       "<div>\n",
       "<style scoped>\n",
       "    .dataframe tbody tr th:only-of-type {\n",
       "        vertical-align: middle;\n",
       "    }\n",
       "\n",
       "    .dataframe tbody tr th {\n",
       "        vertical-align: top;\n",
       "    }\n",
       "\n",
       "    .dataframe thead th {\n",
       "        text-align: right;\n",
       "    }\n",
       "</style>\n",
       "<table border=\"1\" class=\"dataframe\">\n",
       "  <thead>\n",
       "    <tr style=\"text-align: right;\">\n",
       "      <th></th>\n",
       "      <th>Survived</th>\n",
       "      <th>Age</th>\n",
       "      <th>SibSp</th>\n",
       "      <th>Parch</th>\n",
       "      <th>Fare</th>\n",
       "    </tr>\n",
       "    <tr>\n",
       "      <th>Pclass</th>\n",
       "      <th></th>\n",
       "      <th></th>\n",
       "      <th></th>\n",
       "      <th></th>\n",
       "      <th></th>\n",
       "    </tr>\n",
       "  </thead>\n",
       "  <tbody>\n",
       "    <tr>\n",
       "      <th>1</th>\n",
       "      <td>0.629630</td>\n",
       "      <td>38.233441</td>\n",
       "      <td>0.416667</td>\n",
       "      <td>0.356481</td>\n",
       "      <td>84.154687</td>\n",
       "    </tr>\n",
       "    <tr>\n",
       "      <th>2</th>\n",
       "      <td>0.472826</td>\n",
       "      <td>29.877630</td>\n",
       "      <td>0.402174</td>\n",
       "      <td>0.380435</td>\n",
       "      <td>20.662183</td>\n",
       "    </tr>\n",
       "    <tr>\n",
       "      <th>3</th>\n",
       "      <td>0.242363</td>\n",
       "      <td>25.140620</td>\n",
       "      <td>0.615071</td>\n",
       "      <td>0.393075</td>\n",
       "      <td>13.675550</td>\n",
       "    </tr>\n",
       "  </tbody>\n",
       "</table>\n",
       "</div>"
      ],
      "text/plain": [
       "        Survived        Age     SibSp     Parch       Fare\n",
       "Pclass                                                    \n",
       "1       0.629630  38.233441  0.416667  0.356481  84.154687\n",
       "2       0.472826  29.877630  0.402174  0.380435  20.662183\n",
       "3       0.242363  25.140620  0.615071  0.393075  13.675550"
      ]
     },
     "execution_count": 82,
     "metadata": {},
     "output_type": "execute_result"
    }
   ],
   "source": [
    "df.groupby(['Pclass']).mean()"
   ]
  },
  {
   "cell_type": "code",
   "execution_count": 83,
   "metadata": {},
   "outputs": [],
   "source": [
    "df['Age'] = df[['Age', 'Pclass']].apply(age_approx, axis=1)"
   ]
  },
  {
   "cell_type": "code",
   "execution_count": 84,
   "metadata": {},
   "outputs": [
    {
     "data": {
      "text/plain": [
       "Survived    0\n",
       "Pclass      0\n",
       "Sex         0\n",
       "Age         0\n",
       "SibSp       0\n",
       "Parch       0\n",
       "Fare        0\n",
       "Embarked    2\n",
       "dtype: int64"
      ]
     },
     "execution_count": 84,
     "metadata": {},
     "output_type": "execute_result"
    }
   ],
   "source": [
    "# check for null again\n",
    "df.isnull().sum()"
   ]
  },
  {
   "cell_type": "code",
   "execution_count": 85,
   "metadata": {},
   "outputs": [
    {
     "data": {
      "text/plain": [
       "Survived    0\n",
       "Pclass      0\n",
       "Sex         0\n",
       "Age         0\n",
       "SibSp       0\n",
       "Parch       0\n",
       "Fare        0\n",
       "Embarked    0\n",
       "dtype: int64"
      ]
     },
     "execution_count": 85,
     "metadata": {},
     "output_type": "execute_result"
    }
   ],
   "source": [
    "# There are 2 null values in the embarked variable. We can drop those 2 records without \n",
    "# loosing too much important information from our dataset, so we will do that.\n",
    "df.dropna(inplace=True)\n",
    "df.isnull().sum()"
   ]
  },
  {
   "cell_type": "code",
   "execution_count": 86,
   "metadata": {},
   "outputs": [
    {
     "data": {
      "text/plain": [
       "Survived      int64\n",
       "Pclass        int64\n",
       "Sex          object\n",
       "Age         float64\n",
       "SibSp         int64\n",
       "Parch         int64\n",
       "Fare        float64\n",
       "Embarked     object\n",
       "dtype: object"
      ]
     },
     "execution_count": 86,
     "metadata": {},
     "output_type": "execute_result"
    }
   ],
   "source": [
    "# object signifies they are of categorical/string type data\n",
    "df.dtypes"
   ]
  },
  {
   "cell_type": "code",
   "execution_count": 110,
   "metadata": {},
   "outputs": [],
   "source": [
    "# Converting categorical variables to a dummy indicators\n",
    "df_dummied= pd.get_dummies(df, columns=['Sex'])\n",
    "df_dummied = pd.get_dummies(df_dummied, columns=[\"Embarked\"])"
   ]
  },
  {
   "cell_type": "code",
   "execution_count": 111,
   "metadata": {},
   "outputs": [
    {
     "data": {
      "text/html": [
       "<div>\n",
       "<style scoped>\n",
       "    .dataframe tbody tr th:only-of-type {\n",
       "        vertical-align: middle;\n",
       "    }\n",
       "\n",
       "    .dataframe tbody tr th {\n",
       "        vertical-align: top;\n",
       "    }\n",
       "\n",
       "    .dataframe thead th {\n",
       "        text-align: right;\n",
       "    }\n",
       "</style>\n",
       "<table border=\"1\" class=\"dataframe\">\n",
       "  <thead>\n",
       "    <tr style=\"text-align: right;\">\n",
       "      <th></th>\n",
       "      <th>Survived</th>\n",
       "      <th>Pclass</th>\n",
       "      <th>Age</th>\n",
       "      <th>SibSp</th>\n",
       "      <th>Parch</th>\n",
       "      <th>Fare</th>\n",
       "      <th>Sex_female</th>\n",
       "      <th>Sex_male</th>\n",
       "      <th>Embarked_C</th>\n",
       "      <th>Embarked_Q</th>\n",
       "      <th>Embarked_S</th>\n",
       "    </tr>\n",
       "  </thead>\n",
       "  <tbody>\n",
       "    <tr>\n",
       "      <th>0</th>\n",
       "      <td>0</td>\n",
       "      <td>3</td>\n",
       "      <td>22.0</td>\n",
       "      <td>1</td>\n",
       "      <td>0</td>\n",
       "      <td>7.2500</td>\n",
       "      <td>0</td>\n",
       "      <td>1</td>\n",
       "      <td>0</td>\n",
       "      <td>0</td>\n",
       "      <td>1</td>\n",
       "    </tr>\n",
       "    <tr>\n",
       "      <th>1</th>\n",
       "      <td>1</td>\n",
       "      <td>1</td>\n",
       "      <td>38.0</td>\n",
       "      <td>1</td>\n",
       "      <td>0</td>\n",
       "      <td>71.2833</td>\n",
       "      <td>1</td>\n",
       "      <td>0</td>\n",
       "      <td>1</td>\n",
       "      <td>0</td>\n",
       "      <td>0</td>\n",
       "    </tr>\n",
       "    <tr>\n",
       "      <th>2</th>\n",
       "      <td>1</td>\n",
       "      <td>3</td>\n",
       "      <td>26.0</td>\n",
       "      <td>0</td>\n",
       "      <td>0</td>\n",
       "      <td>7.9250</td>\n",
       "      <td>1</td>\n",
       "      <td>0</td>\n",
       "      <td>0</td>\n",
       "      <td>0</td>\n",
       "      <td>1</td>\n",
       "    </tr>\n",
       "    <tr>\n",
       "      <th>3</th>\n",
       "      <td>1</td>\n",
       "      <td>1</td>\n",
       "      <td>35.0</td>\n",
       "      <td>1</td>\n",
       "      <td>0</td>\n",
       "      <td>53.1000</td>\n",
       "      <td>1</td>\n",
       "      <td>0</td>\n",
       "      <td>0</td>\n",
       "      <td>0</td>\n",
       "      <td>1</td>\n",
       "    </tr>\n",
       "    <tr>\n",
       "      <th>4</th>\n",
       "      <td>0</td>\n",
       "      <td>3</td>\n",
       "      <td>35.0</td>\n",
       "      <td>0</td>\n",
       "      <td>0</td>\n",
       "      <td>8.0500</td>\n",
       "      <td>0</td>\n",
       "      <td>1</td>\n",
       "      <td>0</td>\n",
       "      <td>0</td>\n",
       "      <td>1</td>\n",
       "    </tr>\n",
       "  </tbody>\n",
       "</table>\n",
       "</div>"
      ],
      "text/plain": [
       "   Survived  Pclass   Age  SibSp  Parch     Fare  Sex_female  Sex_male  \\\n",
       "0         0       3  22.0      1      0   7.2500           0         1   \n",
       "1         1       1  38.0      1      0  71.2833           1         0   \n",
       "2         1       3  26.0      0      0   7.9250           1         0   \n",
       "3         1       1  35.0      1      0  53.1000           1         0   \n",
       "4         0       3  35.0      0      0   8.0500           0         1   \n",
       "\n",
       "   Embarked_C  Embarked_Q  Embarked_S  \n",
       "0           0           0           1  \n",
       "1           1           0           0  \n",
       "2           0           0           1  \n",
       "3           0           0           1  \n",
       "4           0           0           1  "
      ]
     },
     "execution_count": 111,
     "metadata": {},
     "output_type": "execute_result"
    }
   ],
   "source": [
    "df_dummied.head()"
   ]
  },
  {
   "cell_type": "code",
   "execution_count": 112,
   "metadata": {},
   "outputs": [
    {
     "data": {
      "text/plain": [
       "<AxesSubplot:>"
      ]
     },
     "execution_count": 112,
     "metadata": {},
     "output_type": "execute_result"
    },
    {
     "data": {
      "image/png": "[encoded data removed]",
      "text/plain": [
       "<Figure size 432x288 with 2 Axes>"
      ]
     },
     "metadata": {
      "needs_background": "light"
     },
     "output_type": "display_data"
    }
   ],
   "source": [
    "# Checking for independence between features\n",
    "plt.figure(figsize=(6,4))\n",
    "sns.heatmap(df_dummied.corr()) "
   ]
  },
  {
   "cell_type": "code",
   "execution_count": 113,
   "metadata": {},
   "outputs": [],
   "source": [
    "# Split dataset in training and test datasets\n",
    "from sklearn.linear_model import LogisticRegression\n",
    "from sklearn.model_selection import train_test_split"
   ]
  },
  {
   "cell_type": "code",
   "execution_count": 90,
   "metadata": {},
   "outputs": [],
   "source": [
    "used_features =[\n",
    "    \"Pclass\",\n",
    "    \"Age\",\n",
    "    \"SibSp\",\n",
    "    \"Parch\",\n",
    "    \"Sex_female\",\n",
    "    \"Sex_male\",\n",
    "    \"Embarked_C\",\n",
    "    \"Embarked_Q\",\n",
    "    \"Embarked_S\"\n",
    "]\n",
    "\n",
    "X = df_dummied[used_features].values\n",
    "y = df_dummied['Survived']"
   ]
  },
  {
   "cell_type": "code",
   "execution_count": 92,
   "metadata": {},
   "outputs": [],
   "source": [
    "X_train, X_test, y_train, y_test = train_test_split(X, y, test_size=0.3, random_state=11)"
   ]
  },
  {
   "cell_type": "code",
   "execution_count": 93,
   "metadata": {},
   "outputs": [
    {
     "name": "stdout",
     "output_type": "stream",
     "text": [
      "(622, 9)\n",
      "(267, 9)\n",
      "(622,)\n",
      "(267,)\n"
     ]
    }
   ],
   "source": [
    "print(X_train.shape)\n",
    "print(X_test.shape)\n",
    "print(y_train.shape)\n",
    "print(y_test.shape)"
   ]
  },
  {
   "cell_type": "code",
   "execution_count": 94,
   "metadata": {},
   "outputs": [],
   "source": [
    "Lr = LogisticRegression()"
   ]
  },
  {
   "cell_type": "code",
   "execution_count": 95,
   "metadata": {},
   "outputs": [
    {
     "data": {
      "text/plain": [
       "LogisticRegression()"
      ]
     },
     "execution_count": 95,
     "metadata": {},
     "output_type": "execute_result"
    }
   ],
   "source": [
    "# Train classifier\n",
    "Lr.fit(X_train, y_train)"
   ]
  },
  {
   "cell_type": "code",
   "execution_count": 96,
   "metadata": {},
   "outputs": [],
   "source": [
    "y_pred = Lr.predict(X_test)"
   ]
  },
  {
   "cell_type": "code",
   "execution_count": 114,
   "metadata": {},
   "outputs": [],
   "source": [
    "from sklearn.metrics import confusion_matrix\n",
    "from sklearn.metrics import classification_report\n",
    "from sklearn.metrics import accuracy_score\n",
    "from sklearn import metrics"
   ]
  },
  {
   "cell_type": "code",
   "execution_count": 115,
   "metadata": {},
   "outputs": [
    {
     "data": {
      "text/plain": [
       "array([[142,  19],\n",
       "       [ 23,  83]])"
      ]
     },
     "execution_count": 115,
     "metadata": {},
     "output_type": "execute_result"
    }
   ],
   "source": [
    "metrics.confusion_matrix(y_test, y_pred)"
   ]
  },
  {
   "cell_type": "code",
   "execution_count": 116,
   "metadata": {},
   "outputs": [
    {
     "data": {
      "text/plain": [
       "0.8426966292134831"
      ]
     },
     "execution_count": 116,
     "metadata": {},
     "output_type": "execute_result"
    }
   ],
   "source": [
    "metrics.accuracy_score(y_test, y_pred)"
   ]
  },
  {
   "cell_type": "code",
   "execution_count": 117,
   "metadata": {},
   "outputs": [
    {
     "data": {
      "text/plain": [
       "267"
      ]
     },
     "execution_count": 117,
     "metadata": {},
     "output_type": "execute_result"
    }
   ],
   "source": [
    "len(X_test)"
   ]
  },
  {
   "cell_type": "code",
   "execution_count": 118,
   "metadata": {},
   "outputs": [
    {
     "name": "stdout",
     "output_type": "stream",
     "text": [
      "              precision    recall  f1-score   support\n",
      "\n",
      "           0       0.86      0.88      0.87       161\n",
      "           1       0.81      0.78      0.80       106\n",
      "\n",
      "    accuracy                           0.84       267\n",
      "   macro avg       0.84      0.83      0.83       267\n",
      "weighted avg       0.84      0.84      0.84       267\n",
      "\n"
     ]
    }
   ],
   "source": [
    "print(classification_report(y_test, y_pred))"
   ]
  },
  {
   "cell_type": "code",
   "execution_count": 119,
   "metadata": {},
   "outputs": [
    {
     "data": {
      "text/plain": [
       "array([[-1.17594833, -0.03843506, -0.25144897, -0.14218586,  1.18428779,\n",
       "        -1.1851612 ,  0.18793341,  0.12976291, -0.31856973]])"
      ]
     },
     "execution_count": 119,
     "metadata": {},
     "output_type": "execute_result"
    }
   ],
   "source": [
    "Lr.coef_"
   ]
  },
  {
   "cell_type": "code",
   "execution_count": 120,
   "metadata": {},
   "outputs": [
    {
     "data": {
      "text/plain": [
       "array([3.91717312])"
      ]
     },
     "execution_count": 120,
     "metadata": {},
     "output_type": "execute_result"
    }
   ],
   "source": [
    "Lr.intercept_"
   ]
  },
  {
   "cell_type": "code",
   "execution_count": 121,
   "metadata": {},
   "outputs": [
    {
     "data": {
      "text/plain": [
       "Index(['Pclass', 'Age', 'SibSp', 'Parch', 'Sex_female', 'Sex_male',\n",
       "       'Embarked_C', 'Embarked_Q', 'Embarked_S'],\n",
       "      dtype='object')"
      ]
     },
     "execution_count": 121,
     "metadata": {},
     "output_type": "execute_result"
    }
   ],
   "source": [
    "df_dummied[used_features].columns"
   ]
  },
  {
   "cell_type": "code",
   "execution_count": 122,
   "metadata": {},
   "outputs": [
    {
     "data": {
      "text/plain": [
       "array([[0.36232827, 0.63767173],\n",
       "       [0.93269908, 0.06730092],\n",
       "       [0.54602023, 0.45397977],\n",
       "       [0.48123041, 0.51876959],\n",
       "       [0.84174565, 0.15825435],\n",
       "       [0.84302636, 0.15697364],\n",
       "       [0.56296531, 0.43703469],\n",
       "       [0.14039062, 0.85960938],\n",
       "       [0.06718606, 0.93281394],\n",
       "       [0.8304066 , 0.1695934 ],\n",
       "       [0.5565808 , 0.4434192 ],\n",
       "       [0.86349996, 0.13650004],\n",
       "       [0.8304066 , 0.1695934 ],\n",
       "       [0.15653777, 0.84346223],\n",
       "       [0.23415018, 0.76584982],\n",
       "       [0.85332879, 0.14667121],\n",
       "       [0.86294405, 0.13705595],\n",
       "       [0.57833881, 0.42166119],\n",
       "       [0.07357476, 0.92642524],\n",
       "       [0.91248207, 0.08751793],\n",
       "       [0.41087852, 0.58912148],\n",
       "       [0.63017225, 0.36982775],\n",
       "       [0.87230996, 0.12769004],\n",
       "       [0.81053205, 0.18946795],\n",
       "       [0.88461154, 0.11538846],\n",
       "       [0.88924944, 0.11075056],\n",
       "       [0.88461154, 0.11538846],\n",
       "       [0.46931932, 0.53068068],\n",
       "       [0.69475847, 0.30524153],\n",
       "       [0.93398233, 0.06601767],\n",
       "       [0.0801803 , 0.9198197 ],\n",
       "       [0.72714498, 0.27285502],\n",
       "       [0.90112629, 0.09887371],\n",
       "       [0.59000606, 0.40999394],\n",
       "       [0.88461154, 0.11538846],\n",
       "       [0.94297476, 0.05702524],\n",
       "       [0.36280388, 0.63719612],\n",
       "       [0.91997692, 0.08002308],\n",
       "       [0.89940081, 0.10059919],\n",
       "       [0.91248207, 0.08751793],\n",
       "       [0.0696353 , 0.9303647 ],\n",
       "       [0.9671395 , 0.0328605 ],\n",
       "       [0.86349996, 0.13650004],\n",
       "       [0.29661503, 0.70338497],\n",
       "       [0.54166592, 0.45833408],\n",
       "       [0.28209668, 0.71790332],\n",
       "       [0.3141179 , 0.6858821 ],\n",
       "       [0.76275878, 0.23724122],\n",
       "       [0.48794409, 0.51205591],\n",
       "       [0.10810498, 0.89189502],\n",
       "       [0.81708111, 0.18291889],\n",
       "       [0.71759027, 0.28240973],\n",
       "       [0.25241614, 0.74758386],\n",
       "       [0.68159887, 0.31840113],\n",
       "       [0.43208951, 0.56791049],\n",
       "       [0.82530725, 0.17469275],\n",
       "       [0.1263751 , 0.8736249 ],\n",
       "       [0.8304066 , 0.1695934 ],\n",
       "       [0.86349996, 0.13650004],\n",
       "       [0.89940081, 0.10059919],\n",
       "       [0.20508465, 0.79491535],\n",
       "       [0.20508465, 0.79491535],\n",
       "       [0.1141022 , 0.8858978 ],\n",
       "       [0.87689599, 0.12310401],\n",
       "       [0.60069611, 0.39930389],\n",
       "       [0.92126282, 0.07873718],\n",
       "       [0.42021284, 0.57978716],\n",
       "       [0.15140485, 0.84859515],\n",
       "       [0.05469186, 0.94530814],\n",
       "       [0.82205622, 0.17794378],\n",
       "       [0.88280321, 0.11719679],\n",
       "       [0.86349996, 0.13650004],\n",
       "       [0.07915447, 0.92084553],\n",
       "       [0.26152679, 0.73847321],\n",
       "       [0.18115333, 0.81884667],\n",
       "       [0.92923092, 0.07076908],\n",
       "       [0.30641483, 0.69358517],\n",
       "       [0.39627049, 0.60372951],\n",
       "       [0.16467346, 0.83532654],\n",
       "       [0.43899498, 0.56100502],\n",
       "       [0.8304066 , 0.1695934 ],\n",
       "       [0.06348578, 0.93651422],\n",
       "       [0.03884333, 0.96115667],\n",
       "       [0.05297406, 0.94702594],\n",
       "       [0.05733463, 0.94266537],\n",
       "       [0.88461154, 0.11538846],\n",
       "       [0.8459651 , 0.1540349 ],\n",
       "       [0.88461154, 0.11538846],\n",
       "       [0.87230996, 0.12769004],\n",
       "       [0.84845269, 0.15154731],\n",
       "       [0.72807788, 0.27192212],\n",
       "       [0.74136423, 0.25863577],\n",
       "       [0.76075478, 0.23924522],\n",
       "       [0.88461154, 0.11538846],\n",
       "       [0.3141179 , 0.6858821 ],\n",
       "       [0.88062995, 0.11937005],\n",
       "       [0.05944763, 0.94055237],\n",
       "       [0.91550317, 0.08449683],\n",
       "       [0.90936365, 0.09063635],\n",
       "       [0.37012712, 0.62987288],\n",
       "       [0.35914028, 0.64085972],\n",
       "       [0.85128181, 0.14871819],\n",
       "       [0.0763979 , 0.9236021 ],\n",
       "       [0.91346491, 0.08653509],\n",
       "       [0.90023772, 0.09976228],\n",
       "       [0.32894266, 0.67105734],\n",
       "       [0.48411552, 0.51588448],\n",
       "       [0.82205622, 0.17794378],\n",
       "       [0.61251756, 0.38748244],\n",
       "       [0.87258115, 0.12741885],\n",
       "       [0.10611211, 0.89388789],\n",
       "       [0.89222902, 0.10777098],\n",
       "       [0.16167974, 0.83832026],\n",
       "       [0.32198043, 0.67801957],\n",
       "       [0.47452349, 0.52547651],\n",
       "       [0.04843015, 0.95156985],\n",
       "       [0.87403074, 0.12596926],\n",
       "       [0.94671512, 0.05328488],\n",
       "       [0.82205622, 0.17794378],\n",
       "       [0.86718057, 0.13281943],\n",
       "       [0.8304066 , 0.1695934 ],\n",
       "       [0.91248207, 0.08751793],\n",
       "       [0.92400606, 0.07599394],\n",
       "       [0.85890609, 0.14109391],\n",
       "       [0.91842931, 0.08157069],\n",
       "       [0.68343615, 0.31656385],\n",
       "       [0.88461154, 0.11538846],\n",
       "       [0.74314042, 0.25685958],\n",
       "       [0.86943724, 0.13056276],\n",
       "       [0.32787658, 0.67212342],\n",
       "       [0.03950565, 0.96049435],\n",
       "       [0.5269073 , 0.4730927 ],\n",
       "       [0.27448015, 0.72551985],\n",
       "       [0.62398983, 0.37601017],\n",
       "       [0.49892859, 0.50107141],\n",
       "       [0.3141179 , 0.6858821 ],\n",
       "       [0.81708111, 0.18291889],\n",
       "       [0.8126839 , 0.1873161 ],\n",
       "       [0.13510843, 0.86489157],\n",
       "       [0.18486464, 0.81513536],\n",
       "       [0.74866526, 0.25133474],\n",
       "       [0.82205622, 0.17794378],\n",
       "       [0.43640167, 0.56359833],\n",
       "       [0.42021284, 0.57978716],\n",
       "       [0.92400606, 0.07599394],\n",
       "       [0.8851919 , 0.1148081 ],\n",
       "       [0.93869766, 0.06130234],\n",
       "       [0.8304066 , 0.1695934 ],\n",
       "       [0.1263751 , 0.8736249 ],\n",
       "       [0.95583239, 0.04416761],\n",
       "       [0.37755072, 0.62244928],\n",
       "       [0.87653015, 0.12346985],\n",
       "       [0.42268371, 0.57731629],\n",
       "       [0.07340874, 0.92659126],\n",
       "       [0.88225374, 0.11774626],\n",
       "       [0.73392648, 0.26607352],\n",
       "       [0.07326338, 0.92673662],\n",
       "       [0.91248207, 0.08751793],\n",
       "       [0.17420618, 0.82579382],\n",
       "       [0.0686489 , 0.9313511 ],\n",
       "       [0.86796725, 0.13203275],\n",
       "       [0.64066192, 0.35933808],\n",
       "       [0.87689599, 0.12310401],\n",
       "       [0.3960673 , 0.6039327 ],\n",
       "       [0.11812919, 0.88187081],\n",
       "       [0.88461154, 0.11538846],\n",
       "       [0.84933102, 0.15066898],\n",
       "       [0.93067519, 0.06932481],\n",
       "       [0.23128447, 0.76871553],\n",
       "       [0.80805509, 0.19194491],\n",
       "       [0.92923092, 0.07076908],\n",
       "       [0.16353325, 0.83646675],\n",
       "       [0.52752571, 0.47247429],\n",
       "       [0.86294405, 0.13705595],\n",
       "       [0.88461154, 0.11538846],\n",
       "       [0.91550317, 0.08449683],\n",
       "       [0.82205622, 0.17794378],\n",
       "       [0.54602023, 0.45397977],\n",
       "       [0.63736093, 0.36263907],\n",
       "       [0.1263751 , 0.8736249 ],\n",
       "       [0.82205622, 0.17794378],\n",
       "       [0.11812919, 0.88187081],\n",
       "       [0.5903045 , 0.4096955 ],\n",
       "       [0.86973782, 0.13026218],\n",
       "       [0.89421647, 0.10578353],\n",
       "       [0.88461154, 0.11538846],\n",
       "       [0.24199023, 0.75800977],\n",
       "       [0.41760699, 0.58239301],\n",
       "       [0.44023804, 0.55976196],\n",
       "       [0.90282538, 0.09717462],\n",
       "       [0.06791383, 0.93208617],\n",
       "       [0.82106449, 0.17893551],\n",
       "       [0.8304066 , 0.1695934 ],\n",
       "       [0.20137715, 0.79862285],\n",
       "       [0.88461154, 0.11538846],\n",
       "       [0.65255421, 0.34744579],\n",
       "       [0.72226837, 0.27773163],\n",
       "       [0.28937413, 0.71062587],\n",
       "       [0.03950565, 0.96049435],\n",
       "       [0.88461154, 0.11538846],\n",
       "       [0.86773124, 0.13226876],\n",
       "       [0.96949668, 0.03050332],\n",
       "       [0.8304066 , 0.1695934 ],\n",
       "       [0.35717219, 0.64282781],\n",
       "       [0.88461154, 0.11538846],\n",
       "       [0.24474235, 0.75525765],\n",
       "       [0.9474346 , 0.0525654 ],\n",
       "       [0.94886759, 0.05113241],\n",
       "       [0.55552961, 0.44447039],\n",
       "       [0.06123859, 0.93876141],\n",
       "       [0.92923092, 0.07076908],\n",
       "       [0.88461154, 0.11538846],\n",
       "       [0.47972219, 0.52027781],\n",
       "       [0.61001957, 0.38998043],\n",
       "       [0.40925268, 0.59074732],\n",
       "       [0.69804371, 0.30195629],\n",
       "       [0.89222902, 0.10777098],\n",
       "       [0.76248692, 0.23751308],\n",
       "       [0.98703955, 0.01296045],\n",
       "       [0.69475847, 0.30524153],\n",
       "       [0.82205622, 0.17794378],\n",
       "       [0.21142157, 0.78857843],\n",
       "       [0.94347195, 0.05652805],\n",
       "       [0.73704874, 0.26295126],\n",
       "       [0.92672736, 0.07327264],\n",
       "       [0.45519206, 0.54480794],\n",
       "       [0.81354426, 0.18645574],\n",
       "       [0.06473608, 0.93526392],\n",
       "       [0.36280388, 0.63719612],\n",
       "       [0.76285142, 0.23714858],\n",
       "       [0.69771747, 0.30228253],\n",
       "       [0.43641253, 0.56358747],\n",
       "       [0.88461154, 0.11538846],\n",
       "       [0.88461154, 0.11538846],\n",
       "       [0.30645994, 0.69354006],\n",
       "       [0.59811506, 0.40188494],\n",
       "       [0.39830077, 0.60169923],\n",
       "       [0.94500669, 0.05499331],\n",
       "       [0.16660708, 0.83339292],\n",
       "       [0.89222902, 0.10777098],\n",
       "       [0.98126772, 0.01873228],\n",
       "       [0.11035335, 0.88964665],\n",
       "       [0.94270151, 0.05729849],\n",
       "       [0.36476629, 0.63523371],\n",
       "       [0.61864851, 0.38135149],\n",
       "       [0.30513224, 0.69486776],\n",
       "       [0.9223826 , 0.0776174 ],\n",
       "       [0.82205622, 0.17794378],\n",
       "       [0.95583239, 0.04416761],\n",
       "       [0.54602023, 0.45397977],\n",
       "       [0.0801803 , 0.9198197 ],\n",
       "       [0.45975919, 0.54024081],\n",
       "       [0.75157777, 0.24842223],\n",
       "       [0.89222902, 0.10777098],\n",
       "       [0.25206309, 0.74793691],\n",
       "       [0.88461154, 0.11538846],\n",
       "       [0.20950162, 0.79049838],\n",
       "       [0.28408454, 0.71591546],\n",
       "       [0.94087244, 0.05912756],\n",
       "       [0.88461154, 0.11538846],\n",
       "       [0.87653015, 0.12346985],\n",
       "       [0.7112641 , 0.2887359 ],\n",
       "       [0.88461154, 0.11538846],\n",
       "       [0.65465621, 0.34534379],\n",
       "       [0.31015776, 0.68984224],\n",
       "       [0.37063622, 0.62936378],\n",
       "       [0.37537136, 0.62462864]])"
      ]
     },
     "execution_count": 122,
     "metadata": {},
     "output_type": "execute_result"
    }
   ],
   "source": [
    "Lr.predict_proba(X_test)"
   ]
  },
  {
   "cell_type": "code",
   "execution_count": null,
   "metadata": {},
   "outputs": [],
   "source": []
  }
 ],
 "metadata": {
  "kernelspec": {
   "display_name": "Python 3",
   "language": "python",
   "name": "python3"
  },
  "language_info": {
   "codemirror_mode": {
    "name": "ipython",
    "version": 3
   },
   "file_extension": ".py",
   "mimetype": "text/x-python",
   "name": "python",
   "nbconvert_exporter": "python",
   "pygments_lexer": "ipython3",
   "version": "3.7.6"
  }
 },
 "nbformat": 4,
 "nbformat_minor": 4
}
